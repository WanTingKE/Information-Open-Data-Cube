{
 "cells": [
  {
   "cell_type": "markdown",
   "metadata": {},
   "source": [
    "<H1>STEP 01 : configuration</H1>"
   ]
  },
  {
   "cell_type": "code",
   "execution_count": 1,
   "metadata": {},
   "outputs": [
    {
     "data": {
      "text/plain": [
       "'/home/localuser/Datacube/data_cube_notebooks/Export_to_geotiff'"
      ]
     },
     "execution_count": 1,
     "metadata": {},
     "output_type": "execute_result"
    }
   ],
   "source": [
    "%pwd\n",
    "import os\n",
    "os.getcwd() "
   ]
  },
  {
   "cell_type": "code",
   "execution_count": 4,
   "metadata": {
    "collapsed": true
   },
   "outputs": [],
   "source": [
    "#!git clone https://github.com/ceos-seo/data_cube_utilities.git"
   ]
  },
  {
   "cell_type": "code",
   "execution_count": 2,
   "metadata": {
    "collapsed": true
   },
   "outputs": [],
   "source": [
    "import sys\n",
    "sys.path.append('/home/localuser/Datacube/data_cube_notebooks/NCHC_TEST/data_cube_utilities/data_cube_utilities')"
   ]
  },
  {
   "cell_type": "markdown",
   "metadata": {},
   "source": [
    "<h1>List all products and choose the prodcut format</h1>\n",
    "NetCDF"
   ]
  },
  {
   "cell_type": "code",
   "execution_count": 3,
   "metadata": {},
   "outputs": [
    {
     "data": {
      "text/html": [
       "<div>\n",
       "<style>\n",
       "    .dataframe thead tr:only-child th {\n",
       "        text-align: right;\n",
       "    }\n",
       "\n",
       "    .dataframe thead th {\n",
       "        text-align: left;\n",
       "    }\n",
       "\n",
       "    .dataframe tbody tr th {\n",
       "        vertical-align: top;\n",
       "    }\n",
       "</style>\n",
       "<table border=\"1\" class=\"dataframe\">\n",
       "  <thead>\n",
       "    <tr style=\"text-align: right;\">\n",
       "      <th></th>\n",
       "      <th>name</th>\n",
       "      <th>description</th>\n",
       "      <th>product_type</th>\n",
       "      <th>instrument</th>\n",
       "      <th>lon</th>\n",
       "      <th>time</th>\n",
       "      <th>platform</th>\n",
       "      <th>format</th>\n",
       "      <th>lat</th>\n",
       "      <th>crs</th>\n",
       "      <th>resolution</th>\n",
       "      <th>tile_size</th>\n",
       "      <th>spatial_dimensions</th>\n",
       "    </tr>\n",
       "    <tr>\n",
       "      <th>id</th>\n",
       "      <th></th>\n",
       "      <th></th>\n",
       "      <th></th>\n",
       "      <th></th>\n",
       "      <th></th>\n",
       "      <th></th>\n",
       "      <th></th>\n",
       "      <th></th>\n",
       "      <th></th>\n",
       "      <th></th>\n",
       "      <th></th>\n",
       "      <th></th>\n",
       "      <th></th>\n",
       "    </tr>\n",
       "  </thead>\n",
       "  <tbody>\n",
       "    <tr>\n",
       "      <th>7</th>\n",
       "      <td>ls7_lasrc_taiwan</td>\n",
       "      <td>Landsat 7 USGS Collection 1 Higher Level SR sc...</td>\n",
       "      <td>LEDAPS</td>\n",
       "      <td>ETM</td>\n",
       "      <td>None</td>\n",
       "      <td>None</td>\n",
       "      <td>LANDSAT_7</td>\n",
       "      <td>NetCDF</td>\n",
       "      <td>None</td>\n",
       "      <td>EPSG:4326</td>\n",
       "      <td>[-0.000270824429276318, 0.000270824429276318]</td>\n",
       "      <td>[0.947885502467113, 0.947885502467113]</td>\n",
       "      <td>(latitude, longitude)</td>\n",
       "    </tr>\n",
       "    <tr>\n",
       "      <th>2</th>\n",
       "      <td>ls7_ledaps_general</td>\n",
       "      <td>Landsat 7 USGS Collection 1 Higher Level SR sc...</td>\n",
       "      <td>LEDAPS</td>\n",
       "      <td>ETM</td>\n",
       "      <td>None</td>\n",
       "      <td>None</td>\n",
       "      <td>LANDSAT_7</td>\n",
       "      <td>NetCDF</td>\n",
       "      <td>None</td>\n",
       "      <td>EPSG:4326</td>\n",
       "      <td>[-0.000269494585236, 0.000269494585236]</td>\n",
       "      <td>[0.943231048326, 0.943231048326]</td>\n",
       "      <td>(latitude, longitude)</td>\n",
       "    </tr>\n",
       "    <tr>\n",
       "      <th>6</th>\n",
       "      <td>ls8_lasrc_taiwan</td>\n",
       "      <td>Landsat 8 USGS Collection 1 Higher Level SR sc...</td>\n",
       "      <td>LaSRC</td>\n",
       "      <td>OLI_TIRS</td>\n",
       "      <td>None</td>\n",
       "      <td>None</td>\n",
       "      <td>LANDSAT_8</td>\n",
       "      <td>NetCDF</td>\n",
       "      <td>None</td>\n",
       "      <td>EPSG:4326</td>\n",
       "      <td>[-0.000270824429276318, 0.000270824429276318]</td>\n",
       "      <td>[0.947885502467113, 0.947885502467113]</td>\n",
       "      <td>(latitude, longitude)</td>\n",
       "    </tr>\n",
       "    <tr>\n",
       "      <th>8</th>\n",
       "      <td>s1_gamma0a_taiwan</td>\n",
       "      <td>Sentinel-1A/B SAR Gamma0, processed to the CEO...</td>\n",
       "      <td>gamma0</td>\n",
       "      <td>SAR</td>\n",
       "      <td>None</td>\n",
       "      <td>None</td>\n",
       "      <td>SENTINEL_1</td>\n",
       "      <td>NetCDF</td>\n",
       "      <td>None</td>\n",
       "      <td>EPSG:4326</td>\n",
       "      <td>[-9.02748097587726e-05, 9.02748097587726e-05]</td>\n",
       "      <td>[0.315961835, 0.315961835]</td>\n",
       "      <td>(latitude, longitude)</td>\n",
       "    </tr>\n",
       "    <tr>\n",
       "      <th>4</th>\n",
       "      <td>s1_gamma0_taiwan</td>\n",
       "      <td>Sentinel-1A/B SAR Gamma0, processed to the CEO...</td>\n",
       "      <td>gamma0</td>\n",
       "      <td>SAR</td>\n",
       "      <td>None</td>\n",
       "      <td>None</td>\n",
       "      <td>SENTINEL_1</td>\n",
       "      <td>NetCDF</td>\n",
       "      <td>None</td>\n",
       "      <td>EPSG:4326</td>\n",
       "      <td>[-9.02748097587726e-05, 9.02748097587726e-05]</td>\n",
       "      <td>[0.315961834155704, 0.315961834155704]</td>\n",
       "      <td>(latitude, longitude)</td>\n",
       "    </tr>\n",
       "    <tr>\n",
       "      <th>12</th>\n",
       "      <td>UAV_albers</td>\n",
       "      <td>Landsat 5 LEDAPS 25 metre, 100km tile, Austral...</td>\n",
       "      <td>UAV_type</td>\n",
       "      <td>None</td>\n",
       "      <td>None</td>\n",
       "      <td>None</td>\n",
       "      <td>None</td>\n",
       "      <td>NetCDF</td>\n",
       "      <td>None</td>\n",
       "      <td>EPSG:3826</td>\n",
       "      <td>[-30, 30]</td>\n",
       "      <td>[100000.0, 100000.0]</td>\n",
       "      <td>(y, x)</td>\n",
       "    </tr>\n",
       "  </tbody>\n",
       "</table>\n",
       "</div>"
      ],
      "text/plain": [
       "                  name                                        description  \\\n",
       "id                                                                          \n",
       "7     ls7_lasrc_taiwan  Landsat 7 USGS Collection 1 Higher Level SR sc...   \n",
       "2   ls7_ledaps_general  Landsat 7 USGS Collection 1 Higher Level SR sc...   \n",
       "6     ls8_lasrc_taiwan  Landsat 8 USGS Collection 1 Higher Level SR sc...   \n",
       "8    s1_gamma0a_taiwan  Sentinel-1A/B SAR Gamma0, processed to the CEO...   \n",
       "4     s1_gamma0_taiwan  Sentinel-1A/B SAR Gamma0, processed to the CEO...   \n",
       "12          UAV_albers  Landsat 5 LEDAPS 25 metre, 100km tile, Austral...   \n",
       "\n",
       "   product_type instrument   lon  time    platform  format   lat        crs  \\\n",
       "id                                                                            \n",
       "7        LEDAPS        ETM  None  None   LANDSAT_7  NetCDF  None  EPSG:4326   \n",
       "2        LEDAPS        ETM  None  None   LANDSAT_7  NetCDF  None  EPSG:4326   \n",
       "6         LaSRC   OLI_TIRS  None  None   LANDSAT_8  NetCDF  None  EPSG:4326   \n",
       "8        gamma0        SAR  None  None  SENTINEL_1  NetCDF  None  EPSG:4326   \n",
       "4        gamma0        SAR  None  None  SENTINEL_1  NetCDF  None  EPSG:4326   \n",
       "12     UAV_type       None  None  None        None  NetCDF  None  EPSG:3826   \n",
       "\n",
       "                                       resolution  \\\n",
       "id                                                  \n",
       "7   [-0.000270824429276318, 0.000270824429276318]   \n",
       "2         [-0.000269494585236, 0.000269494585236]   \n",
       "6   [-0.000270824429276318, 0.000270824429276318]   \n",
       "8   [-9.02748097587726e-05, 9.02748097587726e-05]   \n",
       "4   [-9.02748097587726e-05, 9.02748097587726e-05]   \n",
       "12                                      [-30, 30]   \n",
       "\n",
       "                                 tile_size     spatial_dimensions  \n",
       "id                                                                 \n",
       "7   [0.947885502467113, 0.947885502467113]  (latitude, longitude)  \n",
       "2         [0.943231048326, 0.943231048326]  (latitude, longitude)  \n",
       "6   [0.947885502467113, 0.947885502467113]  (latitude, longitude)  \n",
       "8               [0.315961835, 0.315961835]  (latitude, longitude)  \n",
       "4   [0.315961834155704, 0.315961834155704]  (latitude, longitude)  \n",
       "12                    [100000.0, 100000.0]                 (y, x)  "
      ]
     },
     "execution_count": 3,
     "metadata": {},
     "output_type": "execute_result"
    }
   ],
   "source": [
    "import datacube\n",
    "dc = datacube.Datacube(app = 'my_app', config = '/home/localuser/.datacube.conf')\n",
    "\n",
    "list_of_products = dc.list_products()\n",
    "netCDF_products = list_of_products[list_of_products['format'] == 'NetCDF']\n",
    "netCDF_products"
   ]
  },
  {
   "cell_type": "markdown",
   "metadata": {},
   "source": [
    "<H1>STEP 02 : Load Interesting Area</H1>"
   ]
  },
  {
   "cell_type": "code",
   "execution_count": 4,
   "metadata": {},
   "outputs": [
    {
     "data": {
      "text/plain": [
       "<xarray.Dataset>\n",
       "Dimensions:    (latitude: 293, longitude: 498, time: 15)\n",
       "Coordinates:\n",
       "  * time       (time) datetime64[ns] 2016-01-03T02:21:18 2016-01-10T02:27:04 ...\n",
       "  * latitude   (latitude) float64 23.75 23.75 23.75 23.75 23.75 23.75 23.75 ...\n",
       "  * longitude  (longitude) float64 120.4 120.4 120.4 120.4 120.4 120.4 120.4 ...\n",
       "Data variables:\n",
       "    red        (time, latitude, longitude) int16 -9999 -9999 -9999 -9999 ...\n",
       "    green      (time, latitude, longitude) int16 -9999 -9999 -9999 -9999 ...\n",
       "    blue       (time, latitude, longitude) int16 -9999 -9999 -9999 -9999 ...\n",
       "    nir        (time, latitude, longitude) int16 -9999 -9999 -9999 -9999 ...\n",
       "    swir1      (time, latitude, longitude) int16 -9999 -9999 -9999 -9999 ...\n",
       "    swir2      (time, latitude, longitude) int16 -9999 -9999 -9999 -9999 ...\n",
       "    pixel_qa   (time, latitude, longitude) int32 1 1 1 1 1 1 1 1 1 1 1 1 1 1 ...\n",
       "Attributes:\n",
       "    crs:      EPSG:4326"
      ]
     },
     "execution_count": 4,
     "metadata": {},
     "output_type": "execute_result"
    }
   ],
   "source": [
    "import datetime\n",
    "\n",
    "# define geographic boundaries in (min, max) format\n",
    "lon = (120.3697, 120.5044)\n",
    "lat = (23.6686, 23.7476)\n",
    "\n",
    "# define date range boundaries in (min,max) format\n",
    "date_range =(datetime.datetime(2016,1,1), datetime.datetime(2016,3,31))\n",
    "\n",
    "# define product and platform to specify our intent to load Landsat 8 sr products\n",
    "platform = 'LANDSAT_8'\n",
    "product = 'ls8_lasrc_taiwan'  \n",
    "\n",
    "# define desired bands. \n",
    "desired_bands = ['red','green','blue','nir','swir1','swir2','pixel_qa']  \n",
    "\n",
    "# load area. Should result in approximately 15 acquisitions between 2014 and 2016      \n",
    "landsat = dc.load(product = product,platform = platform,lat = lat,lon = lon,time = date_range,measurements = desired_bands)\n",
    "landsat"
   ]
  },
  {
   "cell_type": "markdown",
   "metadata": {},
   "source": [
    "<h1>Step 04: Visualize Data Cube Region</h1></br>\n",
    "Picking a smaller analysis region"
   ]
  },
  {
   "cell_type": "code",
   "execution_count": 5,
   "metadata": {
    "scrolled": true
   },
   "outputs": [
    {
     "data": {
      "text/html": [
       "<div style=\"width:100%;\"><div style=\"position:relative;width:100%;height:0;padding-bottom:60%;\"><iframe src=\"data:text/html;charset=utf-8;base64,PCFET0NUWVBFIGh0bWw+CjxoZWFkPiAgICAKICAgIDxtZXRhIGh0dHAtZXF1aXY9ImNvbnRlbnQtdHlwZSIgY29udGVudD0idGV4dC9odG1sOyBjaGFyc2V0PVVURi04IiAvPgogICAgPHNjcmlwdD5MX1BSRUZFUl9DQU5WQVMgPSBmYWxzZTsgTF9OT19UT1VDSCA9IGZhbHNlOyBMX0RJU0FCTEVfM0QgPSBmYWxzZTs8L3NjcmlwdD4KICAgIDxzY3JpcHQgc3JjPSJodHRwczovL2Nkbi5qc2RlbGl2ci5uZXQvbnBtL2xlYWZsZXRAMS4yLjAvZGlzdC9sZWFmbGV0LmpzIj48L3NjcmlwdD4KICAgIDxzY3JpcHQgc3JjPSJodHRwczovL2FqYXguZ29vZ2xlYXBpcy5jb20vYWpheC9saWJzL2pxdWVyeS8xLjExLjEvanF1ZXJ5Lm1pbi5qcyI+PC9zY3JpcHQ+CiAgICA8c2NyaXB0IHNyYz0iaHR0cHM6Ly9tYXhjZG4uYm9vdHN0cmFwY2RuLmNvbS9ib290c3RyYXAvMy4yLjAvanMvYm9vdHN0cmFwLm1pbi5qcyI+PC9zY3JpcHQ+CiAgICA8c2NyaXB0IHNyYz0iaHR0cHM6Ly9jZG5qcy5jbG91ZGZsYXJlLmNvbS9hamF4L2xpYnMvTGVhZmxldC5hd2Vzb21lLW1hcmtlcnMvMi4wLjIvbGVhZmxldC5hd2Vzb21lLW1hcmtlcnMuanMiPjwvc2NyaXB0PgogICAgPGxpbmsgcmVsPSJzdHlsZXNoZWV0IiBocmVmPSJodHRwczovL2Nkbi5qc2RlbGl2ci5uZXQvbnBtL2xlYWZsZXRAMS4yLjAvZGlzdC9sZWFmbGV0LmNzcyIvPgogICAgPGxpbmsgcmVsPSJzdHlsZXNoZWV0IiBocmVmPSJodHRwczovL21heGNkbi5ib290c3RyYXBjZG4uY29tL2Jvb3RzdHJhcC8zLjIuMC9jc3MvYm9vdHN0cmFwLm1pbi5jc3MiLz4KICAgIDxsaW5rIHJlbD0ic3R5bGVzaGVldCIgaHJlZj0iaHR0cHM6Ly9tYXhjZG4uYm9vdHN0cmFwY2RuLmNvbS9ib290c3RyYXAvMy4yLjAvY3NzL2Jvb3RzdHJhcC10aGVtZS5taW4uY3NzIi8+CiAgICA8bGluayByZWw9InN0eWxlc2hlZXQiIGhyZWY9Imh0dHBzOi8vbWF4Y2RuLmJvb3RzdHJhcGNkbi5jb20vZm9udC1hd2Vzb21lLzQuNi4zL2Nzcy9mb250LWF3ZXNvbWUubWluLmNzcyIvPgogICAgPGxpbmsgcmVsPSJzdHlsZXNoZWV0IiBocmVmPSJodHRwczovL2NkbmpzLmNsb3VkZmxhcmUuY29tL2FqYXgvbGlicy9MZWFmbGV0LmF3ZXNvbWUtbWFya2Vycy8yLjAuMi9sZWFmbGV0LmF3ZXNvbWUtbWFya2Vycy5jc3MiLz4KICAgIDxsaW5rIHJlbD0ic3R5bGVzaGVldCIgaHJlZj0iaHR0cHM6Ly9yYXdnaXQuY29tL3B5dGhvbi12aXN1YWxpemF0aW9uL2ZvbGl1bS9tYXN0ZXIvZm9saXVtL3RlbXBsYXRlcy9sZWFmbGV0LmF3ZXNvbWUucm90YXRlLmNzcyIvPgogICAgPHN0eWxlPmh0bWwsIGJvZHkge3dpZHRoOiAxMDAlO2hlaWdodDogMTAwJTttYXJnaW46IDA7cGFkZGluZzogMDt9PC9zdHlsZT4KICAgIDxzdHlsZT4jbWFwIHtwb3NpdGlvbjphYnNvbHV0ZTt0b3A6MDtib3R0b206MDtyaWdodDowO2xlZnQ6MDt9PC9zdHlsZT4KICAgIAogICAgICAgICAgICA8c3R5bGU+ICNtYXBfNTg5ZDcxYmU0N2UwNGU4Y2I1MDMwOTI2NjgzZjk4ODMgewogICAgICAgICAgICAgICAgcG9zaXRpb24gOiByZWxhdGl2ZTsKICAgICAgICAgICAgICAgIHdpZHRoIDogMTAwLjAlOwogICAgICAgICAgICAgICAgaGVpZ2h0OiAxMDAuMCU7CiAgICAgICAgICAgICAgICBsZWZ0OiAwLjAlOwogICAgICAgICAgICAgICAgdG9wOiAwLjAlOwogICAgICAgICAgICAgICAgfQogICAgICAgICAgICA8L3N0eWxlPgogICAgICAgIAo8L2hlYWQ+Cjxib2R5PiAgICAKICAgIAogICAgICAgICAgICA8ZGl2IGNsYXNzPSJmb2xpdW0tbWFwIiBpZD0ibWFwXzU4OWQ3MWJlNDdlMDRlOGNiNTAzMDkyNjY4M2Y5ODgzIiA+PC9kaXY+CiAgICAgICAgCjwvYm9keT4KPHNjcmlwdD4gICAgCiAgICAKCiAgICAgICAgICAgIAogICAgICAgICAgICAgICAgdmFyIGJvdW5kcyA9IG51bGw7CiAgICAgICAgICAgIAoKICAgICAgICAgICAgdmFyIG1hcF81ODlkNzFiZTQ3ZTA0ZThjYjUwMzA5MjY2ODNmOTg4MyA9IEwubWFwKAogICAgICAgICAgICAgICAgICAgICAgICAgICAgICAgICAgJ21hcF81ODlkNzFiZTQ3ZTA0ZThjYjUwMzA5MjY2ODNmOTg4MycsCiAgICAgICAgICAgICAgICAgICAgICAgICAgICAgICAgICB7Y2VudGVyOiBbMjMuNzA4MSwxMjAuNDM3MDVdLAogICAgICAgICAgICAgICAgICAgICAgICAgICAgICAgICAgem9vbTogMTIsCiAgICAgICAgICAgICAgICAgICAgICAgICAgICAgICAgICBtYXhCb3VuZHM6IGJvdW5kcywKICAgICAgICAgICAgICAgICAgICAgICAgICAgICAgICAgIGxheWVyczogW10sCiAgICAgICAgICAgICAgICAgICAgICAgICAgICAgICAgICB3b3JsZENvcHlKdW1wOiBmYWxzZSwKICAgICAgICAgICAgICAgICAgICAgICAgICAgICAgICAgIGNyczogTC5DUlMuRVBTRzM4NTcKICAgICAgICAgICAgICAgICAgICAgICAgICAgICAgICAgfSk7CiAgICAgICAgICAgIAogICAgICAgIAogICAgCiAgICAgICAgICAgIHZhciB0aWxlX2xheWVyXzY1ZmVlNjBkODhiZTQ4YmVhMDdjNWRhZDI2MjA5ZGViID0gTC50aWxlTGF5ZXIoCiAgICAgICAgICAgICAgICAnIGh0dHA6Ly9tdDEuZ29vZ2xlLmNvbS92dC9seXJzPXkmej17en0meD17eH0meT17eX0nLAogICAgICAgICAgICAgICAgewogICJhdHRyaWJ1dGlvbiI6ICJHb29nbGUiLAogICJkZXRlY3RSZXRpbmEiOiBmYWxzZSwKICAibWF4Wm9vbSI6IDE4LAogICJtaW5ab29tIjogMSwKICAibm9XcmFwIjogZmFsc2UsCiAgInN1YmRvbWFpbnMiOiAiYWJjIgp9CiAgICAgICAgICAgICAgICApLmFkZFRvKG1hcF81ODlkNzFiZTQ3ZTA0ZThjYjUwMzA5MjY2ODNmOTg4Myk7CiAgICAgICAgCiAgICAKICAgICAgICAgICAgICAgIHZhciBwb2x5X2xpbmVfODZjODQ4YTcwYmE4NDllN2FkZGVlZTgzZjExN2JlZmQgPSBMLnBvbHlsaW5lKAogICAgICAgICAgICAgICAgICAgIFtbMjMuNjY4NiwgMTIwLjM2OTddLCBbMjMuNjY4NiwgMTIwLjUwNDRdLCBbMjMuNzQ3NiwgMTIwLjUwNDRdLCBbMjMuNzQ3NiwgMTIwLjM2OTddLCBbMjMuNjY4NiwgMTIwLjM2OTddXSwKICAgICAgICAgICAgICAgICAgICB7CiAgImJ1YmJsaW5nTW91c2VFdmVudHMiOiB0cnVlLAogICJjb2xvciI6ICJyZWQiLAogICJkYXNoQXJyYXkiOiBudWxsLAogICJkYXNoT2Zmc2V0IjogbnVsbCwKICAiZmlsbCI6IGZhbHNlLAogICJmaWxsQ29sb3IiOiAicmVkIiwKICAiZmlsbE9wYWNpdHkiOiAwLjIsCiAgImZpbGxSdWxlIjogImV2ZW5vZGQiLAogICJsaW5lQ2FwIjogInJvdW5kIiwKICAibGluZUpvaW4iOiAicm91bmQiLAogICJub0NsaXAiOiBmYWxzZSwKICAib3BhY2l0eSI6IDAuOCwKICAic21vb3RoRmFjdG9yIjogMS4wLAogICJzdHJva2UiOiB0cnVlLAogICJ3ZWlnaHQiOiAzCn0pLmFkZFRvKG1hcF81ODlkNzFiZTQ3ZTA0ZThjYjUwMzA5MjY2ODNmOTg4Myk7CiAgICAgICAgICAgIAogICAgCiAgICAgICAgICAgICAgICB2YXIgbGF0X2xuZ19wb3B1cF82NDEwNWQ2OWZlNDc0ZTEyOWZjNTk3MWRkZGE3NTc0MSA9IEwucG9wdXAoKTsKICAgICAgICAgICAgICAgIGZ1bmN0aW9uIGxhdExuZ1BvcChlKSB7CiAgICAgICAgICAgICAgICAgICAgbGF0X2xuZ19wb3B1cF82NDEwNWQ2OWZlNDc0ZTEyOWZjNTk3MWRkZGE3NTc0MQogICAgICAgICAgICAgICAgICAgICAgICAuc2V0TGF0TG5nKGUubGF0bG5nKQogICAgICAgICAgICAgICAgICAgICAgICAuc2V0Q29udGVudCgiTGF0aXR1ZGU6ICIgKyBlLmxhdGxuZy5sYXQudG9GaXhlZCg0KSArCiAgICAgICAgICAgICAgICAgICAgICAgICAgICAgICAgICAgICI8YnI+TG9uZ2l0dWRlOiAiICsgZS5sYXRsbmcubG5nLnRvRml4ZWQoNCkpCiAgICAgICAgICAgICAgICAgICAgICAgIC5vcGVuT24obWFwXzU4OWQ3MWJlNDdlMDRlOGNiNTAzMDkyNjY4M2Y5ODgzKTsKICAgICAgICAgICAgICAgICAgICB9CiAgICAgICAgICAgICAgICBtYXBfNTg5ZDcxYmU0N2UwNGU4Y2I1MDMwOTI2NjgzZjk4ODMub24oJ2NsaWNrJywgbGF0TG5nUG9wKTsKICAgICAgICAgICAgCjwvc2NyaXB0Pg==\" style=\"position:absolute;width:100%;height:100%;left:0;top:0;border:none !important;\" allowfullscreen webkitallowfullscreen mozallowfullscreen></iframe></div></div>"
      ],
      "text/plain": [
       "<folium.folium.Map at 0x7f04f8746f28>"
      ]
     },
     "execution_count": 5,
     "metadata": {},
     "output_type": "execute_result"
    }
   ],
   "source": [
    "## The code below renders a map that can be used to orient yourself with the region.\n",
    "from dc_display_map import display_map\n",
    "display_map(latitude = lat, longitude = lon)"
   ]
  },
  {
   "cell_type": "markdown",
   "metadata": {},
   "source": [
    "<h1>Combine Everything</h1>"
   ]
  },
  {
   "cell_type": "code",
   "execution_count": 5,
   "metadata": {},
   "outputs": [
    {
     "data": {
      "text/plain": [
       "<xarray.Dataset>\n",
       "Dimensions:    (latitude: 293, longitude: 498, time: 15)\n",
       "Coordinates:\n",
       "  * time       (time) datetime64[ns] 2016-01-03T02:21:18 2016-01-10T02:27:04 ...\n",
       "  * latitude   (latitude) float64 23.75 23.75 23.75 23.75 23.75 23.75 23.75 ...\n",
       "  * longitude  (longitude) float64 120.4 120.4 120.4 120.4 120.4 120.4 120.4 ...\n",
       "Data variables:\n",
       "    red        (time, latitude, longitude) int16 -9999 -9999 -9999 -9999 ...\n",
       "    green      (time, latitude, longitude) int16 -9999 -9999 -9999 -9999 ...\n",
       "    blue       (time, latitude, longitude) int16 -9999 -9999 -9999 -9999 ...\n",
       "    nir        (time, latitude, longitude) int16 -9999 -9999 -9999 -9999 ...\n",
       "    swir1      (time, latitude, longitude) int16 -9999 -9999 -9999 -9999 ...\n",
       "    swir2      (time, latitude, longitude) int16 -9999 -9999 -9999 -9999 ...\n",
       "    pixel_qa   (time, latitude, longitude) int32 1 1 1 1 1 1 1 1 1 1 1 1 1 1 ...\n",
       "Attributes:\n",
       "    crs:      EPSG:4326"
      ]
     },
     "execution_count": 5,
     "metadata": {},
     "output_type": "execute_result"
    }
   ],
   "source": [
    "import xarray as xr  \n",
    "import numpy as np\n",
    "\n",
    "combined_dataset = xr.merge([landsat])\n",
    "# Copy original crs to merged dataset \n",
    "combined_dataset = combined_dataset.assign_attrs(landsat.attrs)\n",
    "combined_dataset\n"
   ]
  },
  {
   "cell_type": "markdown",
   "metadata": {},
   "source": [
    "<h1>STEP 05: Export Geotiff</h1>"
   ]
  },
  {
   "cell_type": "code",
   "execution_count": 6,
   "metadata": {
    "collapsed": true
   },
   "outputs": [],
   "source": [
    "import time\n",
    "import rasterio\n",
    "from dc_utilities import write_geotiff_from_xr\n",
    "\n",
    "def time_to_string(t):\n",
    "    return time.strftime(\"%Y_%m_%d_%H_%M_%S\", time.gmtime(t.astype(int)/1000000000))\n",
    "\n",
    "def export_slice_to_geotiff(ds, path):\n",
    "    write_geotiff_from_xr(path,ds.astype(np.float32),list(combined_dataset.data_vars.keys()),crs=\"EPSG:3826\")\n",
    "\n",
    "#For each time slice in a dataset we call export_slice_to_geotif\n",
    "def export_xarray_to_geotiff(ds, path):\n",
    "    for t in ds.time:\n",
    "        time_slice_xarray = ds.sel(time = t)\n",
    "        export_slice_to_geotiff(time_slice_xarray,\n",
    "                                path + \"_\" + time_to_string(t) + \".tif\")\n",
    "#Start Export\n",
    "output_dir = \"/home/localuser/Datacube/data_cube_notebooks/Export_to_geotiff/output_tiff/test\"\n",
    "\n",
    "if not os.path.exists(output_dir):\n",
    "    os.makedirs(output_dir)\n",
    "\n",
    "export_xarray_to_geotiff(combined_dataset, \"{}/{}\".format(output_dir,product))"
   ]
  },
  {
   "cell_type": "code",
   "execution_count": 11,
   "metadata": {},
   "outputs": [
    {
     "ename": "NameError",
     "evalue": "name 'gdalwarp' is not defined",
     "output_type": "error",
     "traceback": [
      "\u001b[0;31m---------------------------------------------------------------------------\u001b[0m",
      "\u001b[0;31mNameError\u001b[0m                                 Traceback (most recent call last)",
      "\u001b[0;32m<ipython-input-11-73c67a3c8da8>\u001b[0m in \u001b[0;36m<module>\u001b[0;34m()\u001b[0m\n\u001b[1;32m      3\u001b[0m \u001b[0minput_raster\u001b[0m \u001b[0;34m=\u001b[0m \u001b[0mgdal\u001b[0m\u001b[0;34m.\u001b[0m\u001b[0mOpen\u001b[0m\u001b[0;34m(\u001b[0m\u001b[0mfilename\u001b[0m\u001b[0;34m)\u001b[0m\u001b[0;34m\u001b[0m\u001b[0m\n\u001b[1;32m      4\u001b[0m \u001b[0moutput_raster\u001b[0m \u001b[0;34m=\u001b[0m \u001b[0;34mr\"/home/localuser/Datacube/data_cube_notebooks/Export_to_geotiff/output_tiff/TWD97\"\u001b[0m\u001b[0;34m\u001b[0m\u001b[0m\n\u001b[0;32m----> 5\u001b[0;31m \u001b[0mgdalwarp\u001b[0m\u001b[0;34m(\u001b[0m\u001b[0moutput_raster\u001b[0m\u001b[0;34m,\u001b[0m\u001b[0minput_raster\u001b[0m\u001b[0;34m,\u001b[0m\u001b[0mdstSRS\u001b[0m\u001b[0;34m=\u001b[0m\u001b[0;34m'EPSG:3826'\u001b[0m\u001b[0;34m)\u001b[0m\u001b[0;34m\u001b[0m\u001b[0m\n\u001b[0m",
      "\u001b[0;31mNameError\u001b[0m: name 'gdalwarp' is not defined"
     ]
    }
   ],
   "source": [
    "from osgeo import gdal,ogr\n",
    "filename = r\"/home/localuser/Datacube/data_cube_notebooks/Export_to_geotiff/output_tiff/test\"\n",
    "input_raster = gdal.Open(filename)\n",
    "output_raster = r\"/home/localuser/Datacube/data_cube_notebooks/Export_to_geotiff/output_tiff/TWD97\"\n",
    "gdalwarp(output_raster,input_raster,dstSRS='EPSG:3826')"
   ]
  },
  {
   "cell_type": "code",
   "execution_count": 6,
   "metadata": {},
   "outputs": [
    {
     "data": {
      "text/plain": [
       "'/home/localuser/Datacube/data_cube_notebooks/Export_to_geotiff/output_tiff/WT_P03_2016to2017_LS8.zip'"
      ]
     },
     "execution_count": 6,
     "metadata": {},
     "output_type": "execute_result"
    }
   ],
   "source": [
    "#zip output \n",
    "import shutil\n",
    "import os\n",
    "\n",
    "zip_name = 'WT_P03_2016to2017_LS8'\n",
    "directory_name = \"/home/localuser/Datacube/data_cube_notebooks/Export_to_geotiff/output_tiff/test\"\n",
    "\n",
    "CSVdir = \"/home/localuser/Datacube/data_cube_notebooks/Export_to_geotiff/output_tiff/\"\n",
    "os.chdir(CSVdir)\n",
    "\n",
    "# Create 'path\\to\\zip_file.zip'\n",
    "shutil.make_archive(zip_name, 'zip', directory_name)"
   ]
  },
  {
   "cell_type": "code",
   "execution_count": null,
   "metadata": {
    "collapsed": true
   },
   "outputs": [],
   "source": []
  }
 ],
 "metadata": {
  "kernelspec": {
   "display_name": "Python 3",
   "language": "python",
   "name": "python3"
  },
  "language_info": {
   "codemirror_mode": {
    "name": "ipython",
    "version": 3
   },
   "file_extension": ".py",
   "mimetype": "text/x-python",
   "name": "python",
   "nbconvert_exporter": "python",
   "pygments_lexer": "ipython3",
   "version": "3.5.2"
  }
 },
 "nbformat": 4,
 "nbformat_minor": 2
}
